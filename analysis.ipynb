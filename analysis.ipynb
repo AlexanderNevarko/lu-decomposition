{
 "cells": [
  {
   "cell_type": "code",
   "execution_count": 1,
   "id": "86d3da61-a0d5-46fb-9188-12344c00a611",
   "metadata": {},
   "outputs": [],
   "source": [
    "import numpy as np\n",
    "import pandas as pd\n",
    "import matplotlib.pyplot as plt\n",
    "import seaborn as sns\n",
    "import os"
   ]
  },
  {
   "cell_type": "code",
   "execution_count": 2,
   "id": "9f3d344f-e33e-4c65-8753-906c03df2f3c",
   "metadata": {},
   "outputs": [],
   "source": [
    "sns.set_context(context='paper', font_scale=2)\n",
    "sns.set_palette('dark')\n",
    "sns.set_style('white')"
   ]
  },
  {
   "cell_type": "code",
   "execution_count": 3,
   "id": "b740ed58-f4c3-4af1-bdb7-c5c1ef4f0b10",
   "metadata": {},
   "outputs": [],
   "source": [
    "RESULTS_FOLDER = './lu/results'"
   ]
  },
  {
   "cell_type": "markdown",
   "id": "c2848d40-72e8-45cf-b229-ef8e55867f49",
   "metadata": {},
   "source": [
    "## Read all results"
   ]
  },
  {
   "cell_type": "code",
   "execution_count": null,
   "id": "12ee9056-e945-4cb3-bd41-744a1e160e9a",
   "metadata": {},
   "outputs": [],
   "source": [
    "def read_results(file):\n",
    "    res = {}\n",
    "    with open(file, 'r') as f:\n",
    "        for line in f:\n",
    "            "
   ]
  },
  {
   "cell_type": "code",
   "execution_count": null,
   "id": "1df99bd9-7d62-4655-bffa-77650e756be2",
   "metadata": {},
   "outputs": [],
   "source": [
    "results = {}\n",
    "for file_name in os.listdir(RESULTS_FOLDER):\n",
    "    if file_name.stratswith('cpp'):\n",
    "        if 'openmp' in file_name:\n",
    "            pass\n",
    "        elif 'intel_tbb' in file_name:\n",
    "            pass\n",
    "        elif 'threads' in file_name:\n",
    "            pass\n",
    "        else:\n",
    "            pass #Baseline\n",
    "    elif file_name.statrswith('python'):\n",
    "        if 'mpi' in file_name:\n",
    "            pass\n",
    "        else:\n",
    "            pass #Baseline\n",
    "    elif file_name.startswith('go'):\n",
    "        if 'goroutines' in file_name:\n",
    "            pass\n",
    "        else:\n",
    "            pass #Baseline\n",
    "    else:\n",
    "        print(f'Unsupported results file: {file}')\n",
    "    "
   ]
  },
  {
   "cell_type": "code",
   "execution_count": 4,
   "id": "a8e54090-be4e-462a-ad63-b7c4589aca6b",
   "metadata": {},
   "outputs": [
    {
     "data": {
      "text/plain": [
       "\u001b[0;31mDocstring:\u001b[0m\n",
       "S.startswith(prefix[, start[, end]]) -> bool\n",
       "\n",
       "Return True if S starts with the specified prefix, False otherwise.\n",
       "With optional start, test S beginning at that position.\n",
       "With optional end, stop comparing S at that position.\n",
       "prefix can also be a tuple of strings to try.\n",
       "\u001b[0;31mType:\u001b[0m      method_descriptor\n"
      ]
     },
     "metadata": {},
     "output_type": "display_data"
    }
   ],
   "source": [
    "str.has?"
   ]
  },
  {
   "cell_type": "code",
   "execution_count": null,
   "id": "ec53f29f-7872-43b2-ba1c-6bcfff75a203",
   "metadata": {},
   "outputs": [],
   "source": []
  }
 ],
 "metadata": {
  "kernelspec": {
   "display_name": "Python 3",
   "language": "python",
   "name": "python3"
  },
  "language_info": {
   "codemirror_mode": {
    "name": "ipython",
    "version": 3
   },
   "file_extension": ".py",
   "mimetype": "text/x-python",
   "name": "python",
   "nbconvert_exporter": "python",
   "pygments_lexer": "ipython3",
   "version": "3.8.3"
  }
 },
 "nbformat": 4,
 "nbformat_minor": 5
}
